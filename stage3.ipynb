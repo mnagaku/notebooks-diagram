{
 "cells": [
  {
   "cell_type": "markdown",
   "metadata": {
    "lc_cell_meme": {
     "current": "fe1ca510-c280-11ea-87c0-0242ac110002-2-21aa-741f",
     "history": [
      {
       "current": "fe1ca510-c280-11ea-87c0-0242ac110002-2-21aa-741f",
       "next": "fe1ca5ce-c280-11ea-87c0-0242ac110002",
       "previous": null
      }
     ],
     "next": "fe1ca510-c280-11ea-87c0-0242ac110002-1-f2f4",
     "previous": null
    }
   },
   "source": [
    "# ステージ3\n",
    "\n",
    "このステージ3の概要を説明する。"
   ]
  },
  {
   "cell_type": "markdown",
   "metadata": {
    "lc_cell_meme": {
     "current": "fe1ca510-c280-11ea-87c0-0242ac110002-1-f2f4",
     "history": [
      {
       "current": "fe1ca510-c280-11ea-87c0-0242ac110002-1-f2f4",
       "next": "fe1ca5ce-c280-11ea-87c0-0242ac110002",
       "previous": null
      }
     ],
     "next": "fe1ca5ce-c280-11ea-87c0-0242ac110002-1-1bc3",
     "previous": "fe1ca510-c280-11ea-87c0-0242ac110002-2-21aa-741f"
    }
   },
   "source": [
    "## 後始末"
   ]
  },
  {
   "cell_type": "code",
   "execution_count": null,
   "metadata": {
    "lc_cell_meme": {
     "current": "fe1ca5ce-c280-11ea-87c0-0242ac110002-1-1bc3",
     "history": [
      {
       "current": "fe1ca5ce-c280-11ea-87c0-0242ac110002-1-1bc3",
       "next": null,
       "previous": "fe1ca510-c280-11ea-87c0-0242ac110002"
      }
     ],
     "next": null,
     "previous": "fe1ca510-c280-11ea-87c0-0242ac110002-1-f2f4"
    }
   },
   "outputs": [],
   "source": []
  }
 ],
 "metadata": {
  "kernelspec": {
   "display_name": "Python 3",
   "language": "python",
   "name": "python3"
  },
  "language_info": {
   "file_extension": ".py",
   "mimetype": "text/x-python",
   "name": "python",
   "nbconvert_exporter": "python",
   "pygments_lexer": "ipython3",
   "version": "3.7.6"
  },
  "lc_notebook_meme": {
   "current": "fe1ca36c-c280-11ea-87c0-0242ac110002",
   "lc_server_signature": {
    "current": {
     "notebook_dir": "/home/jovyan",
     "notebook_path": "/notebooks-diagram",
     "server_url": "http://localhost:8888/",
     "signature_id": "46d88d42-c730-11ea-88fb-0242ac110002"
    },
    "history": [
     {
      "notebook_dir": "/home/jovyan",
      "notebook_path": "/notebooks-diagram",
      "server_url": "http://localhost:8888/",
      "signature_id": "860cf03e-c280-11ea-87c0-0242ac110002"
     }
    ]
   }
  },
  "toc": {
   "base_numbering": 1,
   "nav_menu": {},
   "number_sections": true,
   "sideBar": true,
   "skip_h1_title": false,
   "title_cell": "Table of Contents",
   "title_sidebar": "Contents",
   "toc_cell": false,
   "toc_position": {},
   "toc_section_display": true,
   "toc_window_display": true
  }
 },
 "nbformat": 4,
 "nbformat_minor": 4
}
