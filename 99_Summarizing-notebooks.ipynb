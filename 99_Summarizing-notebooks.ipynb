{
 "cells": [
  {
   "cell_type": "markdown",
   "metadata": {
    "collapsed": true,
    "lc_cell_meme": {
     "current": "f64e43ee-13c3-11e7-b31a-0242ac12000d-2-0d59-9b7d",
     "history": [
      {
       "current": "f64e43ee-13c3-11e7-b31a-0242ac12000d",
       "next": "f64e4628-13c3-11e7-b31a-0242ac12000d",
       "previous": null
      },
      {
       "current": "f64e43ee-13c3-11e7-b31a-0242ac12000d-1-0d59",
       "next": "771e4f2e-1fd0-11e7-b31a-0242ac12000d",
       "previous": null
      },
      {
       "current": "f64e43ee-13c3-11e7-b31a-0242ac12000d-2-0d59-9b7d",
       "next": "771e4f2e-1fd0-11e7-b31a-0242ac12000d-1-8ea0",
       "previous": null
      }
     ],
     "next": "771e4f2e-1fd0-11e7-b31a-0242ac12000d-2-8ea0-b3e2",
     "previous": null
    },
    "nbpresent": {
     "id": "40314b59-e8b3-4aad-a218-07584ba2b71d"
    }
   },
   "source": [
    "# About: Notebookの利用フローまとめ\n",
    "\n",
    "----\n",
    "\n",
    "Notebookの利用フローを図としてまとめる例です。"
   ]
  },
  {
   "cell_type": "markdown",
   "metadata": {
    "lc_cell_meme": {
     "current": "771e4f2e-1fd0-11e7-b31a-0242ac12000d-2-8ea0-b3e2",
     "history": [
      {
       "current": "771e4f2e-1fd0-11e7-b31a-0242ac12000d",
       "next": "f64e4628-13c3-11e7-b31a-0242ac12000d",
       "previous": "f64e43ee-13c3-11e7-b31a-0242ac12000d"
      },
      {
       "current": "771e4f2e-1fd0-11e7-b31a-0242ac12000d",
       "next": "bea97c06-1fd0-11e7-b31a-0242ac12000d",
       "previous": "f64e43ee-13c3-11e7-b31a-0242ac12000d"
      },
      {
       "current": "771e4f2e-1fd0-11e7-b31a-0242ac12000d-1-8ea0",
       "next": "0630e4d8-1fd1-11e7-b31a-0242ac12000d",
       "previous": "f64e43ee-13c3-11e7-b31a-0242ac12000d"
      },
      {
       "current": "771e4f2e-1fd0-11e7-b31a-0242ac12000d-2-8ea0-b3e2",
       "next": "0630e4d8-1fd1-11e7-b31a-0242ac12000d-1-be37",
       "previous": "f64e43ee-13c3-11e7-b31a-0242ac12000d-1-0d59"
      }
     ],
     "next": "0630e4d8-1fd1-11e7-b31a-0242ac12000d-2-be37-8561",
     "previous": "f64e43ee-13c3-11e7-b31a-0242ac12000d-2-0d59-9b7d"
    }
   },
   "source": [
    "# 必要なツール\n",
    "\n",
    "このNotebookの実行には[blockdiag](http://blockdiag.com/ja/blockdiag/)が必要です。"
   ]
  },
  {
   "cell_type": "code",
   "execution_count": null,
   "metadata": {
    "lc_cell_meme": {
     "current": "0630e4d8-1fd1-11e7-b31a-0242ac12000d-2-be37-8561",
     "history": [
      {
       "current": "0630e4d8-1fd1-11e7-b31a-0242ac12000d-1-be37",
       "next": "0630e942-1fd1-11e7-b31a-0242ac12000d",
       "previous": "771e4f2e-1fd0-11e7-b31a-0242ac12000d"
      },
      {
       "current": "0630e4d8-1fd1-11e7-b31a-0242ac12000d-2-be37-8561",
       "next": "0630e942-1fd1-11e7-b31a-0242ac12000d-1-230e",
       "previous": "771e4f2e-1fd0-11e7-b31a-0242ac12000d-1-8ea0"
      }
     ],
     "next": "0630e942-1fd1-11e7-b31a-0242ac12000d-2-230e-85a2",
     "previous": "771e4f2e-1fd0-11e7-b31a-0242ac12000d-2-8ea0-b3e2"
    },
    "lc_wrapper": {
     "log_history": [
      "/home/nagaku/notebooks/wifi/.log/20200214/20200214-055516-0138.log",
      "/home/user1/notebooks/share/git/work-nagaku/.log/20200214/20200214-090118-0272.log",
      "/home/user1/notebooks/share/git/work-nagaku/.log/20200214/20200214-090417-0403.log",
      "/home/user1/notebooks/share/git/work-nagaku/.log/20200214/20200214-121655-0569.log",
      "/home/jovyan/notebooks-diagram/.log/20200710/20200710-074333-0548.log",
      "/home/jovyan/notebooks-diagram/.log/20200710/20200710-091051-0716.log",
      "/home/jovyan/notebooks-diagram/.log/20200710/20200710-091904-0937.log",
      "/home/jovyan/notebooks-diagram/.log/20200716/20200716-065027-0849.log",
      "/home/jovyan/notebooks-diagram/.log/20200716/20200716-072021-0988.log",
      "/home/jovyan/notebooks-diagram/.log/20200716/20200716-072141-0624.log",
      "/home/jovyan/notebooks-diagram/.log/20200716/20200716-072228-0239.log"
     ]
    },
    "pinned_outputs": [],
    "run_control": {
     "frozen": true
    }
   },
   "outputs": [],
   "source": [
    "!which blockdiag"
   ]
  },
  {
   "cell_type": "markdown",
   "metadata": {
    "lc_cell_meme": {
     "current": "0630e942-1fd1-11e7-b31a-0242ac12000d-2-230e-85a2",
     "history": [
      {
       "current": "0630e942-1fd1-11e7-b31a-0242ac12000d-1-230e",
       "next": "bea97c06-1fd0-11e7-b31a-0242ac12000d",
       "previous": "0630e4d8-1fd1-11e7-b31a-0242ac12000d"
      },
      {
       "current": "0630e942-1fd1-11e7-b31a-0242ac12000d-2-230e-85a2",
       "next": "bea97c06-1fd0-11e7-b31a-0242ac12000d-1-bd80",
       "previous": "0630e4d8-1fd1-11e7-b31a-0242ac12000d-1-be37"
      }
     ],
     "next": "bea97c06-1fd0-11e7-b31a-0242ac12000d-2-bd80-2c48",
     "previous": "0630e4d8-1fd1-11e7-b31a-0242ac12000d-2-be37-8561"
    }
   },
   "source": [
    "このNotebook環境にblockdiagコマンドがインストールされていない場合は、以下のようにしてblockdiagパッケージをインストールします。\n",
    "(pipコマンドの場所は環境により異なります。)\n",
    "\n",
    "lxmlも必要なので入れておきます。"
   ]
  },
  {
   "cell_type": "code",
   "execution_count": null,
   "metadata": {
    "lc_cell_meme": {
     "current": "bea97c06-1fd0-11e7-b31a-0242ac12000d-2-bd80-2c48",
     "history": [
      {
       "current": "bea97c06-1fd0-11e7-b31a-0242ac12000d",
       "next": "f64e4628-13c3-11e7-b31a-0242ac12000d",
       "previous": "771e4f2e-1fd0-11e7-b31a-0242ac12000d"
      },
      {
       "current": "bea97c06-1fd0-11e7-b31a-0242ac12000d",
       "next": "f64e4bfa-13c3-11e7-b31a-0242ac12000d",
       "previous": "0630e942-1fd1-11e7-b31a-0242ac12000d"
      },
      {
       "current": "bea97c06-1fd0-11e7-b31a-0242ac12000d-1-bd80",
       "next": "79dae028-a717-11e7-870a-02420aff0006",
       "previous": "0630e942-1fd1-11e7-b31a-0242ac12000d"
      },
      {
       "current": "bea97c06-1fd0-11e7-b31a-0242ac12000d-2-bd80-2c48",
       "next": "79dae028-a717-11e7-870a-02420aff0006-1-c4d6",
       "previous": "0630e942-1fd1-11e7-b31a-0242ac12000d-1-230e"
      }
     ],
     "next": "79dae028-a717-11e7-870a-02420aff0006-2-c4d6-d932",
     "previous": "0630e942-1fd1-11e7-b31a-0242ac12000d-2-230e-85a2"
    },
    "lc_wrapper": {
     "log_history": [
      "/home/nagaku/notebooks/wifi/.log/20200214/20200214-055516-0877.log",
      "/home/user1/notebooks/share/git/work-nagaku/.log/20200214/20200214-090120-0721.log",
      "/home/user1/notebooks/share/git/work-nagaku/.log/20200214/20200214-121616-0212.log",
      "/home/jovyan/notebooks-diagram/.log/20200710/20200710-074334-0482.log",
      "/home/jovyan/notebooks-diagram/.log/20200716/20200716-065029-0992.log",
      "/home/jovyan/notebooks-diagram/.log/20200716/20200716-072023-0066.log",
      "/home/jovyan/notebooks-diagram/.log/20200716/20200716-072142-0256.log",
      "/home/jovyan/notebooks-diagram/.log/20200716/20200716-072228-0842.log"
     ]
    },
    "pinned_outputs": [],
    "run_control": {
     "frozen": true
    }
   },
   "outputs": [],
   "source": [
    "!sudo pip install blockdiag lxml"
   ]
  },
  {
   "cell_type": "markdown",
   "metadata": {
    "lc_cell_meme": {
     "current": "79dae028-a717-11e7-870a-02420aff0006-2-c4d6-d932",
     "history": [
      {
       "current": "79dae028-a717-11e7-870a-02420aff0006-1-c4d6",
       "next": "79dae51e-a717-11e7-870a-02420aff0006",
       "previous": "bea97c06-1fd0-11e7-b31a-0242ac12000d"
      },
      {
       "current": "79dae028-a717-11e7-870a-02420aff0006-2-c4d6-d932",
       "next": "79dae51e-a717-11e7-870a-02420aff0006-1-0114",
       "previous": "bea97c06-1fd0-11e7-b31a-0242ac12000d-1-bd80"
      }
     ],
     "next": "79dae51e-a717-11e7-870a-02420aff0006-2-0114-beca",
     "previous": "bea97c06-1fd0-11e7-b31a-0242ac12000d-2-bd80-2c48"
    }
   },
   "source": [
    "fonts-japanese-gothic.ttfも入れておく"
   ]
  },
  {
   "cell_type": "code",
   "execution_count": null,
   "metadata": {
    "lc_cell_meme": {
     "current": "79dae51e-a717-11e7-870a-02420aff0006-2-0114-beca",
     "history": [
      {
       "current": "79dae51e-a717-11e7-870a-02420aff0006-1-0114",
       "next": "f64e4bfa-13c3-11e7-b31a-0242ac12000d",
       "previous": "79dae028-a717-11e7-870a-02420aff0006"
      },
      {
       "current": "79dae51e-a717-11e7-870a-02420aff0006-2-0114-beca",
       "next": "f64e4bfa-13c3-11e7-b31a-0242ac12000d-1-1f1c",
       "previous": "79dae028-a717-11e7-870a-02420aff0006-1-c4d6"
      }
     ],
     "next": "f64e4bfa-13c3-11e7-b31a-0242ac12000d-2-1f1c-120f",
     "previous": "79dae028-a717-11e7-870a-02420aff0006-2-c4d6-d932"
    },
    "lc_wrapper": {
     "log_history": [
      "/home/user1/notebooks/share/git/work-nagaku/.log/20200214/20200214-090134-0274.log",
      "/home/user1/notebooks/share/git/work-nagaku/.log/20200214/20200214-121627-0290.log",
      "/home/user1/notebooks/share/git/work-nagaku/.log/20200214/20200214-121640-0212.log",
      "/home/jovyan/notebooks-diagram/.log/20200710/20200710-074339-0548.log",
      "/home/jovyan/notebooks-diagram/.log/20200716/20200716-065035-0638.log",
      "/home/jovyan/notebooks-diagram/.log/20200716/20200716-072025-0300.log",
      "/home/jovyan/notebooks-diagram/.log/20200716/20200716-072144-0615.log",
      "/home/jovyan/notebooks-diagram/.log/20200716/20200716-072231-0135.log"
     ]
    },
    "pinned_outputs": [],
    "scrolled": true
   },
   "outputs": [],
   "source": [
    "!sudo apt-get update\n",
    "!sudo apt-get install -y fonts-ipaexfont-gothic"
   ]
  },
  {
   "cell_type": "markdown",
   "metadata": {
    "collapsed": true,
    "lc_cell_meme": {
     "current": "f64e4bfa-13c3-11e7-b31a-0242ac12000d-2-1f1c-120f",
     "history": [
      {
       "current": "f64e4bfa-13c3-11e7-b31a-0242ac12000d",
       "next": "f64e4dd0-13c3-11e7-b31a-0242ac12000d",
       "previous": "f64e4a1a-13c3-11e7-b31a-0242ac12000d"
      },
      {
       "current": "f64e4bfa-13c3-11e7-b31a-0242ac12000d",
       "next": "3dd51a6c-13c4-11e7-b31a-0242ac12000d",
       "previous": "f64e4a1a-13c3-11e7-b31a-0242ac12000d"
      },
      {
       "current": "f64e4bfa-13c3-11e7-b31a-0242ac12000d",
       "next": "3dd51a6c-13c4-11e7-b31a-0242ac12000d",
       "previous": "250a00b2-13f9-11e7-b31a-0242ac12000d"
      },
      {
       "current": "f64e4bfa-13c3-11e7-b31a-0242ac12000d",
       "next": "3dd51a6c-13c4-11e7-b31a-0242ac12000d",
       "previous": "f64e5c30-13c3-11e7-b31a-0242ac12000d"
      },
      {
       "current": "f64e4bfa-13c3-11e7-b31a-0242ac12000d",
       "next": "f64e4dd0-13c3-11e7-b31a-0242ac12000d",
       "previous": "bea97c06-1fd0-11e7-b31a-0242ac12000d"
      },
      {
       "current": "f64e4bfa-13c3-11e7-b31a-0242ac12000d",
       "next": "4db6179c-1fd1-11e7-b31a-0242ac12000d",
       "previous": "bea97c06-1fd0-11e7-b31a-0242ac12000d"
      },
      {
       "current": "f64e4bfa-13c3-11e7-b31a-0242ac12000d-1-1f1c",
       "next": "4db6179c-1fd1-11e7-b31a-0242ac12000d",
       "previous": "79dae51e-a717-11e7-870a-02420aff0006"
      },
      {
       "current": "f64e4bfa-13c3-11e7-b31a-0242ac12000d-2-1f1c-120f",
       "next": "4db6179c-1fd1-11e7-b31a-0242ac12000d-1-3a5b",
       "previous": "79dae51e-a717-11e7-870a-02420aff0006-1-0114"
      }
     ],
     "next": "4db6179c-1fd1-11e7-b31a-0242ac12000d-2-3a5b-92b3",
     "previous": "79dae51e-a717-11e7-870a-02420aff0006-2-0114-beca"
    },
    "nbpresent": {
     "id": "254432a4-e8fc-4d50-ac21-04a62e34643a"
    }
   },
   "source": [
    "# ブロック図による一覧生成\n",
    "\n",
    "以下のセルを実行(`Run All Below`)することで、Notebookがそれぞれどのような局面での利用を想定しているのか、ブロック図で確認することができます。\n",
    "\n",
    "ブロック図は `images/notebooks-filled.svg` として保存し、他のNotebookから必要に応じて参照することとします。"
   ]
  },
  {
   "cell_type": "markdown",
   "metadata": {
    "lc_cell_meme": {
     "current": "4db6179c-1fd1-11e7-b31a-0242ac12000d-2-3a5b-92b3",
     "history": [
      {
       "current": "4db6179c-1fd1-11e7-b31a-0242ac12000d-1-3a5b",
       "next": "f64e4dd0-13c3-11e7-b31a-0242ac12000d",
       "previous": "f64e4bfa-13c3-11e7-b31a-0242ac12000d"
      },
      {
       "current": "4db6179c-1fd1-11e7-b31a-0242ac12000d-2-3a5b-92b3",
       "next": "f64e4dd0-13c3-11e7-b31a-0242ac12000d-1-ac8c",
       "previous": "f64e4bfa-13c3-11e7-b31a-0242ac12000d-1-1f1c"
      }
     ],
     "next": "f64e4dd0-13c3-11e7-b31a-0242ac12000d-2-ac8c-ceca",
     "previous": "f64e4bfa-13c3-11e7-b31a-0242ac12000d-2-1f1c-120f"
    }
   },
   "source": [
    "一時ファイルは以下のディレクトリに作成します。"
   ]
  },
  {
   "cell_type": "code",
   "execution_count": null,
   "metadata": {
    "lc_cell_meme": {
     "current": "f64e4dd0-13c3-11e7-b31a-0242ac12000d-2-ac8c-ceca",
     "history": [
      {
       "current": "f64e4dd0-13c3-11e7-b31a-0242ac12000d",
       "next": "f64e4f9c-13c3-11e7-b31a-0242ac12000d",
       "previous": "f64e4bfa-13c3-11e7-b31a-0242ac12000d"
      },
      {
       "current": "f64e4dd0-13c3-11e7-b31a-0242ac12000d",
       "next": "f64e4f9c-13c3-11e7-b31a-0242ac12000d",
       "previous": "3dd51a6c-13c4-11e7-b31a-0242ac12000d"
      },
      {
       "current": "f64e4dd0-13c3-11e7-b31a-0242ac12000d",
       "next": "f64e4f9c-13c3-11e7-b31a-0242ac12000d",
       "previous": "f64e4bfa-13c3-11e7-b31a-0242ac12000d"
      },
      {
       "current": "f64e4dd0-13c3-11e7-b31a-0242ac12000d-1-ac8c",
       "next": "4db61d64-1fd1-11e7-b31a-0242ac12000d",
       "previous": "4db6179c-1fd1-11e7-b31a-0242ac12000d"
      },
      {
       "current": "f64e4dd0-13c3-11e7-b31a-0242ac12000d-1-ac8c",
       "next": "4db61d64-1fd1-11e7-b31a-0242ac12000d-1-671d",
       "previous": "4db6179c-1fd1-11e7-b31a-0242ac12000d-1-3a5b"
      },
      {
       "current": "f64e4dd0-13c3-11e7-b31a-0242ac12000d-1-ac8c",
       "next": "f64e4dd0-13c3-11e7-b31a-0242ac12000d-2-ac8c-59ca",
       "previous": "4db6179c-1fd1-11e7-b31a-0242ac12000d-1-3a5b"
      },
      {
       "current": "f64e4dd0-13c3-11e7-b31a-0242ac12000d-2-ac8c-ceca",
       "next": "770104dc-c293-11ea-87c0-0242ac110002",
       "previous": "4db6179c-1fd1-11e7-b31a-0242ac12000d-1-3a5b"
      }
     ],
     "next": "4db61d64-1fd1-11e7-b31a-0242ac12000d-2-671d-4e82",
     "previous": "4db6179c-1fd1-11e7-b31a-0242ac12000d-2-3a5b-92b3"
    },
    "lc_wrapper": {
     "log_history": [
      "/home/nagaku/notebooks/wifi/.log/20200214/20200214-055543-0149.log",
      "/home/nagaku/notebooks/wifi/.log/20200214/20200214-060620-0953.log",
      "/home/user1/notebooks/share/git/work-nagaku/.log/20200214/20200214-090426-0425.log",
      "/home/user1/notebooks/share/git/work-nagaku/.log/20200214/20200214-121553-0534.log",
      "/home/user1/notebooks/share/git/work-nagaku/.log/20200214/20200214-121710-0418.log",
      "/home/jovyan/notebooks-diagram/.log/20200710/20200710-074357-0120.log",
      "/home/jovyan/notebooks-diagram/.log/20200710/20200710-092259-0044.log",
      "/home/jovyan/notebooks-diagram/.log/20200716/20200716-065048-0696.log",
      "/home/jovyan/notebooks-diagram/.log/20200716/20200716-065333-0816.log",
      "/home/jovyan/notebooks-diagram/.log/20200716/20200716-065820-0510.log",
      "/home/jovyan/notebooks-diagram/.log/20200716/20200716-070255-0211.log",
      "/home/jovyan/notebooks-diagram/.log/20200716/20200716-070625-0437.log",
      "/home/jovyan/notebooks-diagram/.log/20200716/20200716-070711-0217.log",
      "/home/jovyan/notebooks-diagram/.log/20200716/20200716-072031-0913.log",
      "/home/jovyan/notebooks-diagram/.log/20200716/20200716-072149-0999.log",
      "/home/jovyan/notebooks-diagram/.log/20200716/20200716-072236-0732.log"
     ]
    },
    "run_control": {
     "frozen": true
    }
   },
   "outputs": [],
   "source": [
    "import tempfile\n",
    "work_dir = tempfile.mkdtemp()\n",
    "work_dir"
   ]
  },
  {
   "cell_type": "markdown",
   "metadata": {
    "lc_cell_meme": {
     "current": "4db61d64-1fd1-11e7-b31a-0242ac12000d-2-671d-4e82",
     "history": [
      {
       "current": "4db61d64-1fd1-11e7-b31a-0242ac12000d-1-671d",
       "next": "f64e4f9c-13c3-11e7-b31a-0242ac12000d",
       "previous": "f64e4dd0-13c3-11e7-b31a-0242ac12000d"
      },
      {
       "current": "4db61d64-1fd1-11e7-b31a-0242ac12000d-1-671d",
       "next": "f64e4f9c-13c3-11e7-b31a-0242ac12000d-1-131d",
       "previous": "f64e4dd0-13c3-11e7-b31a-0242ac12000d-1-ac8c"
      },
      {
       "current": "4db61d64-1fd1-11e7-b31a-0242ac12000d-2-671d-4e82",
       "next": "f64e4f9c-13c3-11e7-b31a-0242ac12000d-1-131d",
       "previous": "f64e4dd0-13c3-11e7-b31a-0242ac12000d-2-ac8c-59ca"
      }
     ],
     "next": "f64e4f9c-13c3-11e7-b31a-0242ac12000d-2-131d-95df",
     "previous": "f64e4dd0-13c3-11e7-b31a-0242ac12000d-2-ac8c-ceca"
    }
   },
   "source": [
    "## 雛形の生成\n",
    "\n",
    "まず、Notebookの利用フローを表したブロック図の雛形を作成します。\n",
    "\n",
    "今回は雛形作成は人手により行っています。各ブロックには、Notebook名の先頭文字列を与えるものとします。"
   ]
  },
  {
   "cell_type": "code",
   "execution_count": null,
   "metadata": {
    "lc_cell_meme": {
     "current": "f64e4f9c-13c3-11e7-b31a-0242ac12000d-2-131d-95df",
     "history": [
      {
       "current": "f64e4f9c-13c3-11e7-b31a-0242ac12000d",
       "next": "f64e5168-13c3-11e7-b31a-0242ac12000d",
       "previous": "f64e4dd0-13c3-11e7-b31a-0242ac12000d"
      },
      {
       "current": "f64e4f9c-13c3-11e7-b31a-0242ac12000d",
       "next": "f64e5168-13c3-11e7-b31a-0242ac12000d",
       "previous": "4db61d64-1fd1-11e7-b31a-0242ac12000d"
      },
      {
       "current": "f64e4f9c-13c3-11e7-b31a-0242ac12000d-1-131d",
       "next": "855aa226-13c4-11e7-b31a-0242ac12000d",
       "previous": "4db61d64-1fd1-11e7-b31a-0242ac12000d"
      },
      {
       "current": "f64e4f9c-13c3-11e7-b31a-0242ac12000d-2-131d-95df",
       "next": "855aa226-13c4-11e7-b31a-0242ac12000d-1-c79c",
       "previous": "4db61d64-1fd1-11e7-b31a-0242ac12000d-1-671d"
      }
     ],
     "next": "855aa226-13c4-11e7-b31a-0242ac12000d-2-c79c-56cf",
     "previous": "4db61d64-1fd1-11e7-b31a-0242ac12000d-2-671d-4e82"
    },
    "lc_wrapper": {
     "log_history": [
      "/home/nagaku/notebooks/wifi/.log/20200214/20200214-055544-0317.log",
      "/home/nagaku/notebooks/wifi/.log/20200214/20200214-060621-0706.log",
      "/home/user1/notebooks/share/git/work-nagaku/.log/20200214/20200214-090909-0326.log",
      "/home/user1/notebooks/share/git/work-nagaku/.log/20200214/20200214-091016-0636.log",
      "/home/user1/notebooks/share/git/work-nagaku/.log/20200214/20200214-091107-0402.log",
      "/home/user1/notebooks/share/git/work-nagaku/.log/20200214/20200214-091218-0581.log",
      "/home/user1/notebooks/share/git/work-nagaku/.log/20200214/20200214-092548-0972.log",
      "/home/user1/notebooks/share/git/work-nagaku/.log/20200214/20200214-092634-0033.log",
      "/home/user1/notebooks/share/git/work-nagaku/.log/20200214/20200214-092655-0371.log",
      "/home/user1/notebooks/share/git/work-nagaku/.log/20200214/20200214-092723-0505.log",
      "/home/user1/notebooks/share/git/work-nagaku/.log/20200214/20200214-121555-0047.log",
      "/home/user1/notebooks/share/git/work-nagaku/.log/20200214/20200214-121711-0110.log",
      "/home/user1/notebooks/share/git/work-nagaku/.log/20200214/20200214-122116-0358.log",
      "/home/user1/notebooks/share/git/work-nagaku/.log/20200214/20200214-122550-0958.log",
      "/home/user1/notebooks/share/git/work-nagaku/.log/20200214/20200214-122652-0403.log",
      "/home/user1/notebooks/share/git/work-nagaku/.log/20200214/20200214-122804-0911.log",
      "/home/user1/notebooks/share/git/work-nagaku/.log/20200214/20200214-122831-0632.log",
      "/home/user1/notebooks/share/git/work-nagaku/.log/20200214/20200214-122859-0191.log",
      "/home/user1/notebooks/share/git/work-nagaku/.log/20200214/20200214-123004-0967.log",
      "/home/jovyan/notebooks-diagram/.log/20200710/20200710-080004-0959.log",
      "/home/jovyan/notebooks-diagram/.log/20200710/20200710-092302-0135.log",
      "/home/jovyan/notebooks-diagram/.log/20200716/20200716-065108-0643.log",
      "/home/jovyan/notebooks-diagram/.log/20200716/20200716-065334-0567.log",
      "/home/jovyan/notebooks-diagram/.log/20200716/20200716-065820-0920.log",
      "/home/jovyan/notebooks-diagram/.log/20200716/20200716-070255-0787.log",
      "/home/jovyan/notebooks-diagram/.log/20200716/20200716-070626-0374.log",
      "/home/jovyan/notebooks-diagram/.log/20200716/20200716-070711-0985.log",
      "/home/jovyan/notebooks-diagram/.log/20200716/20200716-072031-0961.log",
      "/home/jovyan/notebooks-diagram/.log/20200716/20200716-072150-0035.log",
      "/home/jovyan/notebooks-diagram/.log/20200716/20200716-072236-0785.log"
     ]
    },
    "run_control": {
     "frozen": true
    }
   },
   "outputs": [],
   "source": [
    "%%writefile {work_dir}/notebooks.diag\n",
    "blockdiag {\n",
    "    node_width = 200;\n",
    "    node_height = 150;\n",
    "    \n",
    "    stage1 -> stage2\n",
    "    stage2 -> stage3\n",
    "\n",
    "    stage1 -> stage1check\n",
    "    stage2 -> stage2check\n",
    "    stage3 -> stage3check\n",
    "\n",
    "    stage1check -> stage1recovery1\n",
    "    stage1check -> stage1recovery2\n",
    "\n",
    "    group {\n",
    "        label = \"正常系\"\n",
    "        orientation = portrait\n",
    "        stage1\n",
    "        stage2\n",
    "        stage3\n",
    "    }\n",
    "    group {\n",
    "        label = \"障害調査系\"\n",
    "        stage1check\n",
    "        stage2check\n",
    "        stage3check\n",
    "    }\n",
    "    group {\n",
    "        label = \"障害対処系\"\n",
    "        stage1recovery1\n",
    "        stage1recovery2\n",
    "    }\n",
    "}"
   ]
  },
  {
   "cell_type": "markdown",
   "metadata": {
    "lc_cell_meme": {
     "current": "855aa226-13c4-11e7-b31a-0242ac12000d-2-c79c-56cf",
     "history": [
      {
       "current": "855aa226-13c4-11e7-b31a-0242ac12000d",
       "next": "f64e5334-13c3-11e7-b31a-0242ac12000d",
       "previous": "f64e5168-13c3-11e7-b31a-0242ac12000d"
      },
      {
       "current": "855aa226-13c4-11e7-b31a-0242ac12000d-1-c79c",
       "next": "f64e5334-13c3-11e7-b31a-0242ac12000d",
       "previous": "f64e4f9c-13c3-11e7-b31a-0242ac12000d"
      },
      {
       "current": "855aa226-13c4-11e7-b31a-0242ac12000d-2-c79c-56cf",
       "next": "f64e5334-13c3-11e7-b31a-0242ac12000d-1-10fd",
       "previous": "f64e4f9c-13c3-11e7-b31a-0242ac12000d-1-131d"
      }
     ],
     "next": "f64e5334-13c3-11e7-b31a-0242ac12000d-2-10fd-bbdd",
     "previous": "f64e4f9c-13c3-11e7-b31a-0242ac12000d-2-131d-95df"
    }
   },
   "source": [
    "雛形を作成します。以下のような表示となります。"
   ]
  },
  {
   "cell_type": "code",
   "execution_count": null,
   "metadata": {
    "lc_cell_meme": {
     "current": "f64e5334-13c3-11e7-b31a-0242ac12000d-2-10fd-bbdd",
     "history": [
      {
       "current": "f64e5334-13c3-11e7-b31a-0242ac12000d",
       "next": "f64e550a-13c3-11e7-b31a-0242ac12000d",
       "previous": "f64e5168-13c3-11e7-b31a-0242ac12000d"
      },
      {
       "current": "f64e5334-13c3-11e7-b31a-0242ac12000d-1-10fd",
       "next": "855aa7d0-13c4-11e7-b31a-0242ac12000d",
       "previous": "855aa226-13c4-11e7-b31a-0242ac12000d"
      },
      {
       "current": "f64e5334-13c3-11e7-b31a-0242ac12000d-2-10fd-bbdd",
       "next": "855aa7d0-13c4-11e7-b31a-0242ac12000d-1-dc13",
       "previous": "855aa226-13c4-11e7-b31a-0242ac12000d-1-c79c"
      }
     ],
     "next": "855aa7d0-13c4-11e7-b31a-0242ac12000d-2-dc13-969c",
     "previous": "855aa226-13c4-11e7-b31a-0242ac12000d-2-c79c-56cf"
    },
    "lc_wrapper": {
     "log_history": [
      "/home/nagaku/notebooks/wifi/.log/20200214/20200214-055546-0438.log",
      "/home/nagaku/notebooks/wifi/.log/20200214/20200214-060623-0683.log",
      "/home/user1/notebooks/share/git/work-nagaku/.log/20200214/20200214-090917-0580.log",
      "/home/user1/notebooks/share/git/work-nagaku/.log/20200214/20200214-091017-0912.log",
      "/home/user1/notebooks/share/git/work-nagaku/.log/20200214/20200214-091108-0298.log",
      "/home/user1/notebooks/share/git/work-nagaku/.log/20200214/20200214-091220-0423.log",
      "/home/user1/notebooks/share/git/work-nagaku/.log/20200214/20200214-092550-0524.log",
      "/home/user1/notebooks/share/git/work-nagaku/.log/20200214/20200214-092634-0878.log",
      "/home/user1/notebooks/share/git/work-nagaku/.log/20200214/20200214-092656-0040.log",
      "/home/user1/notebooks/share/git/work-nagaku/.log/20200214/20200214-092723-0963.log",
      "/home/user1/notebooks/share/git/work-nagaku/.log/20200214/20200214-121604-0152.log",
      "/home/user1/notebooks/share/git/work-nagaku/.log/20200214/20200214-121712-0488.log",
      "/home/user1/notebooks/share/git/work-nagaku/.log/20200214/20200214-122117-0645.log",
      "/home/user1/notebooks/share/git/work-nagaku/.log/20200214/20200214-122552-0160.log",
      "/home/user1/notebooks/share/git/work-nagaku/.log/20200214/20200214-122656-0935.log",
      "/home/user1/notebooks/share/git/work-nagaku/.log/20200214/20200214-122805-0826.log",
      "/home/user1/notebooks/share/git/work-nagaku/.log/20200214/20200214-122832-0145.log",
      "/home/user1/notebooks/share/git/work-nagaku/.log/20200214/20200214-122859-0800.log",
      "/home/user1/notebooks/share/git/work-nagaku/.log/20200214/20200214-123005-0380.log",
      "/home/jovyan/notebooks-diagram/.log/20200710/20200710-080008-0915.log",
      "/home/jovyan/notebooks-diagram/.log/20200710/20200710-092336-0479.log",
      "/home/jovyan/notebooks-diagram/.log/20200716/20200716-065122-0851.log",
      "/home/jovyan/notebooks-diagram/.log/20200716/20200716-065335-0820.log",
      "/home/jovyan/notebooks-diagram/.log/20200716/20200716-065821-0233.log",
      "/home/jovyan/notebooks-diagram/.log/20200716/20200716-070256-0145.log",
      "/home/jovyan/notebooks-diagram/.log/20200716/20200716-070627-0225.log",
      "/home/jovyan/notebooks-diagram/.log/20200716/20200716-070712-0887.log",
      "/home/jovyan/notebooks-diagram/.log/20200716/20200716-072035-0086.log",
      "/home/jovyan/notebooks-diagram/.log/20200716/20200716-072150-0051.log",
      "/home/jovyan/notebooks-diagram/.log/20200716/20200716-072236-0803.log"
     ]
    },
    "pinned_outputs": [
     {
      "execution_count": 6,
      "outputs": [
       {
        "data": {
         "image/svg+xml": "<svg viewBox=\"0 0 856 610\" xmlns=\"http://www.w3.org/2000/svg\" xmlns:inkspace=\"http://www.inkscape.org/namespaces/inkscape\" xmlns:xlink=\"http://www.w3.org/1999/xlink\">\n  <defs id=\"defs_block\">\n    <filter height=\"1.504\" id=\"filter_blur\" inkspace:collect=\"always\" width=\"1.1575\" x=\"-0.07875\" y=\"-0.252\">\n      <feGaussianBlur id=\"feGaussianBlur3780\" inkspace:collect=\"always\" stdDeviation=\"4.2\"/>\n    </filter>\n  </defs>\n  <title>blockdiag</title>\n  <desc>blockdiag {\n    node_width = 200;\n    node_height = 150;\n    \n    stage1 -&gt; stage2\n    stage2 -&gt; stage3\n\n    stage1 -&gt; stage1check\n    stage2 -&gt; stage2check\n    stage3 -&gt; stage3check\n\n    stage1check -&gt; stage1recovery1\n    stage1check -&gt; stage1recovery2\n\n    group {\n        label = &quot;正常系&quot;\n        orientation = portrait\n        stage1\n        stage2\n        stage3\n    }\n    group {\n        label = &quot;障害調査系&quot;\n        stage1check\n        stage2check\n        stage3check\n    }\n    group {\n        label = &quot;障害対処系&quot;\n        stage1recovery1\n        stage1recovery2\n    }\n}\n</desc>\n  <rect fill=\"rgb(243,152,0)\" height=\"550\" style=\"filter:url(#filter_blur)\" width=\"216\" x=\"56\" y=\"30\"/>\n  <rect fill=\"rgb(243,152,0)\" height=\"550\" style=\"filter:url(#filter_blur)\" width=\"216\" x=\"320\" y=\"30\"/>\n  <rect fill=\"rgb(243,152,0)\" height=\"360\" style=\"filter:url(#filter_blur)\" width=\"216\" x=\"584\" y=\"30\"/>\n  <rect fill=\"rgb(0,0,0)\" height=\"150\" stroke=\"rgb(0,0,0)\" style=\"filter:url(#filter_blur);opacity:0.7;fill-opacity:1\" width=\"200\" x=\"67\" y=\"46\"/>\n  <rect fill=\"rgb(0,0,0)\" height=\"150\" stroke=\"rgb(0,0,0)\" style=\"filter:url(#filter_blur);opacity:0.7;fill-opacity:1\" width=\"200\" x=\"67\" y=\"236\"/>\n  <rect fill=\"rgb(0,0,0)\" height=\"150\" stroke=\"rgb(0,0,0)\" style=\"filter:url(#filter_blur);opacity:0.7;fill-opacity:1\" width=\"200\" x=\"67\" y=\"426\"/>\n  <rect fill=\"rgb(0,0,0)\" height=\"150\" stroke=\"rgb(0,0,0)\" style=\"filter:url(#filter_blur);opacity:0.7;fill-opacity:1\" width=\"200\" x=\"331\" y=\"46\"/>\n  <rect fill=\"rgb(0,0,0)\" height=\"150\" stroke=\"rgb(0,0,0)\" style=\"filter:url(#filter_blur);opacity:0.7;fill-opacity:1\" width=\"200\" x=\"331\" y=\"236\"/>\n  <rect fill=\"rgb(0,0,0)\" height=\"150\" stroke=\"rgb(0,0,0)\" style=\"filter:url(#filter_blur);opacity:0.7;fill-opacity:1\" width=\"200\" x=\"331\" y=\"426\"/>\n  <rect fill=\"rgb(0,0,0)\" height=\"150\" stroke=\"rgb(0,0,0)\" style=\"filter:url(#filter_blur);opacity:0.7;fill-opacity:1\" width=\"200\" x=\"595\" y=\"46\"/>\n  <rect fill=\"rgb(0,0,0)\" height=\"150\" stroke=\"rgb(0,0,0)\" style=\"filter:url(#filter_blur);opacity:0.7;fill-opacity:1\" width=\"200\" x=\"595\" y=\"236\"/>\n  <rect fill=\"rgb(255,255,255)\" height=\"150\" stroke=\"rgb(0,0,0)\" width=\"200\" x=\"64\" y=\"40\"/>\n  <text fill=\"rgb(0,0,0)\" font-family=\"sans-serif\" font-size=\"11\" font-style=\"normal\" font-weight=\"normal\" text-anchor=\"middle\" textLength=\"34\" x=\"164.0\" y=\"121\">stage1</text>\n  <rect fill=\"rgb(255,255,255)\" height=\"150\" stroke=\"rgb(0,0,0)\" width=\"200\" x=\"64\" y=\"230\"/>\n  <text fill=\"rgb(0,0,0)\" font-family=\"sans-serif\" font-size=\"11\" font-style=\"normal\" font-weight=\"normal\" text-anchor=\"middle\" textLength=\"34\" x=\"164.0\" y=\"311\">stage2</text>\n  <rect fill=\"rgb(255,255,255)\" height=\"150\" stroke=\"rgb(0,0,0)\" width=\"200\" x=\"64\" y=\"420\"/>\n  <text fill=\"rgb(0,0,0)\" font-family=\"sans-serif\" font-size=\"11\" font-style=\"normal\" font-weight=\"normal\" text-anchor=\"middle\" textLength=\"34\" x=\"164.0\" y=\"501\">stage3</text>\n  <rect fill=\"rgb(255,255,255)\" height=\"150\" stroke=\"rgb(0,0,0)\" width=\"200\" x=\"328\" y=\"40\"/>\n  <text fill=\"rgb(0,0,0)\" font-family=\"sans-serif\" font-size=\"11\" font-style=\"normal\" font-weight=\"normal\" text-anchor=\"middle\" textLength=\"65\" x=\"428.5\" y=\"121\">stage1check</text>\n  <rect fill=\"rgb(255,255,255)\" height=\"150\" stroke=\"rgb(0,0,0)\" width=\"200\" x=\"328\" y=\"230\"/>\n  <text fill=\"rgb(0,0,0)\" font-family=\"sans-serif\" font-size=\"11\" font-style=\"normal\" font-weight=\"normal\" text-anchor=\"middle\" textLength=\"65\" x=\"428.5\" y=\"311\">stage2check</text>\n  <rect fill=\"rgb(255,255,255)\" height=\"150\" stroke=\"rgb(0,0,0)\" width=\"200\" x=\"328\" y=\"420\"/>\n  <text fill=\"rgb(0,0,0)\" font-family=\"sans-serif\" font-size=\"11\" font-style=\"normal\" font-weight=\"normal\" text-anchor=\"middle\" textLength=\"65\" x=\"428.5\" y=\"501\">stage3check</text>\n  <rect fill=\"rgb(255,255,255)\" height=\"150\" stroke=\"rgb(0,0,0)\" width=\"200\" x=\"592\" y=\"40\"/>\n  <text fill=\"rgb(0,0,0)\" font-family=\"sans-serif\" font-size=\"11\" font-style=\"normal\" font-weight=\"normal\" text-anchor=\"middle\" textLength=\"84\" x=\"692.0\" y=\"121\">stage1recovery1</text>\n  <rect fill=\"rgb(255,255,255)\" height=\"150\" stroke=\"rgb(0,0,0)\" width=\"200\" x=\"592\" y=\"230\"/>\n  <text fill=\"rgb(0,0,0)\" font-family=\"sans-serif\" font-size=\"11\" font-style=\"normal\" font-weight=\"normal\" text-anchor=\"middle\" textLength=\"84\" x=\"692.0\" y=\"311\">stage1recovery2</text>\n  <path d=\"M 164 190 L 164 222\" fill=\"none\" stroke=\"rgb(0,0,0)\"/>\n  <polygon fill=\"rgb(0,0,0)\" points=\"164,229 160,222 168,222 164,229\" stroke=\"rgb(0,0,0)\"/>\n  <path d=\"M 264 115 L 320 115\" fill=\"none\" stroke=\"rgb(0,0,0)\"/>\n  <polygon fill=\"rgb(0,0,0)\" points=\"327,115 320,111 320,119 327,115\" stroke=\"rgb(0,0,0)\"/>\n  <path d=\"M 164 380 L 164 412\" fill=\"none\" stroke=\"rgb(0,0,0)\"/>\n  <polygon fill=\"rgb(0,0,0)\" points=\"164,419 160,412 168,412 164,419\" stroke=\"rgb(0,0,0)\"/>\n  <path d=\"M 264 305 L 320 305\" fill=\"none\" stroke=\"rgb(0,0,0)\"/>\n  <polygon fill=\"rgb(0,0,0)\" points=\"327,305 320,301 320,309 327,305\" stroke=\"rgb(0,0,0)\"/>\n  <path d=\"M 264 495 L 320 495\" fill=\"none\" stroke=\"rgb(0,0,0)\"/>\n  <polygon fill=\"rgb(0,0,0)\" points=\"327,495 320,491 320,499 327,495\" stroke=\"rgb(0,0,0)\"/>\n  <path d=\"M 528 115 L 584 115\" fill=\"none\" stroke=\"rgb(0,0,0)\"/>\n  <polygon fill=\"rgb(0,0,0)\" points=\"591,115 584,111 584,119 591,115\" stroke=\"rgb(0,0,0)\"/>\n  <path d=\"M 528 115 L 560 115\" fill=\"none\" stroke=\"rgb(0,0,0)\"/>\n  <path d=\"M 560 115 L 560 305\" fill=\"none\" stroke=\"rgb(0,0,0)\"/>\n  <path d=\"M 560 305 L 584 305\" fill=\"none\" stroke=\"rgb(0,0,0)\"/>\n  <polygon fill=\"rgb(0,0,0)\" points=\"591,305 584,301 584,309 591,305\" stroke=\"rgb(0,0,0)\"/>\n  <text fill=\"rgb(0,0,0)\" font-family=\"sans-serif\" font-size=\"11\" font-style=\"normal\" font-weight=\"normal\" text-anchor=\"middle\" textLength=\"33\" x=\"164.5\" y=\"36\">正常系</text>\n  <text fill=\"rgb(0,0,0)\" font-family=\"sans-serif\" font-size=\"11\" font-style=\"normal\" font-weight=\"normal\" text-anchor=\"middle\" textLength=\"55\" x=\"428.5\" y=\"36\">障害調査系</text>\n  <text fill=\"rgb(0,0,0)\" font-family=\"sans-serif\" font-size=\"11\" font-style=\"normal\" font-weight=\"normal\" text-anchor=\"middle\" textLength=\"55\" x=\"692.5\" y=\"36\">障害対処系</text>\n</svg>",
         "text/plain": "<IPython.core.display.SVG object>"
        },
        "execution_count": 6,
        "metadata": {},
        "output_type": "execute_result"
       }
      ]
     }
    ],
    "run_control": {
     "frozen": true
    },
    "scrolled": false
   },
   "outputs": [],
   "source": [
    "import os\n",
    "from IPython.display import SVG\n",
    "\n",
    "!blockdiag -f /usr/share/fonts/truetype/fonts-japanese-gothic.ttf -Tsvg \\\n",
    "           -o {work_dir}/notebooks.svg {work_dir}/notebooks.diag\n",
    "SVG(filename=os.path.join(work_dir, 'notebooks.svg'))"
   ]
  },
  {
   "cell_type": "markdown",
   "metadata": {
    "lc_cell_meme": {
     "current": "855aa7d0-13c4-11e7-b31a-0242ac12000d-2-dc13-969c",
     "history": [
      {
       "current": "855aa7d0-13c4-11e7-b31a-0242ac12000d",
       "next": "f64e550a-13c3-11e7-b31a-0242ac12000d",
       "previous": "f64e5334-13c3-11e7-b31a-0242ac12000d"
      },
      {
       "current": "855aa7d0-13c4-11e7-b31a-0242ac12000d",
       "next": "a4bb6fc2-4a7b-11e7-b37f-02420aff0006",
       "previous": "f64e5334-13c3-11e7-b31a-0242ac12000d"
      },
      {
       "current": "855aa7d0-13c4-11e7-b31a-0242ac12000d-1-dc13",
       "next": "ec3bef98-4a7b-11e7-b37f-02420aff0006",
       "previous": "f64e5334-13c3-11e7-b31a-0242ac12000d"
      },
      {
       "current": "855aa7d0-13c4-11e7-b31a-0242ac12000d-2-dc13-969c",
       "next": "ec3bef98-4a7b-11e7-b37f-02420aff0006-1-2e9f",
       "previous": "f64e5334-13c3-11e7-b31a-0242ac12000d-1-10fd"
      }
     ],
     "next": "ec3bef98-4a7b-11e7-b37f-02420aff0006-2-2e9f-a7da",
     "previous": "f64e5334-13c3-11e7-b31a-0242ac12000d-2-10fd-bbdd"
    }
   },
   "source": [
    "## 詳細情報の埋め込み\n",
    "\n",
    "生成した雛形に対して、見出しの情報など詳細な情報を埋め込みます。\n",
    "\n",
    "この手順により、人手での図編集作業を最低限にとどめつつ、Notebookのわかりやすい利用フロー図を生成できるようにしています。"
   ]
  },
  {
   "cell_type": "code",
   "execution_count": null,
   "metadata": {
    "lc_cell_meme": {
     "current": "ec3bef98-4a7b-11e7-b37f-02420aff0006-2-2e9f-a7da",
     "history": [
      {
       "current": "ec3bef98-4a7b-11e7-b37f-02420aff0006-1-2e9f",
       "next": "f64e550a-13c3-11e7-b31a-0242ac12000d",
       "previous": "855aa7d0-13c4-11e7-b31a-0242ac12000d"
      },
      {
       "current": "ec3bef98-4a7b-11e7-b37f-02420aff0006-2-2e9f-a7da",
       "next": "f64e550a-13c3-11e7-b31a-0242ac12000d-1-e0ea",
       "previous": "855aa7d0-13c4-11e7-b31a-0242ac12000d-1-dc13"
      }
     ],
     "next": "f64e550a-13c3-11e7-b31a-0242ac12000d-2-e0ea-8b42",
     "previous": "855aa7d0-13c4-11e7-b31a-0242ac12000d-2-dc13-969c"
    },
    "lc_wrapper": {
     "log_history": [
      "/home/nagaku/notebooks/wifi/.log/20200214/20200214-055554-0750.log",
      "/home/nagaku/notebooks/wifi/.log/20200214/20200214-060624-0884.log",
      "/home/nagaku/notebooks/wifi/.log/20200214/20200214-060845-0730.log",
      "/home/nagaku/notebooks/wifi/.log/20200214/20200214-061105-0173.log",
      "/home/user1/notebooks/share/git/work-nagaku/.log/20200214/20200214-090934-0829.log",
      "/home/user1/notebooks/share/git/work-nagaku/.log/20200214/20200214-091021-0289.log",
      "/home/user1/notebooks/share/git/work-nagaku/.log/20200214/20200214-091109-0854.log",
      "/home/user1/notebooks/share/git/work-nagaku/.log/20200214/20200214-091223-0484.log",
      "/home/user1/notebooks/share/git/work-nagaku/.log/20200214/20200214-092552-0361.log",
      "/home/user1/notebooks/share/git/work-nagaku/.log/20200214/20200214-092636-0439.log",
      "/home/user1/notebooks/share/git/work-nagaku/.log/20200214/20200214-092657-0611.log",
      "/home/user1/notebooks/share/git/work-nagaku/.log/20200214/20200214-092725-0520.log",
      "/home/user1/notebooks/share/git/work-nagaku/.log/20200214/20200214-121717-0765.log",
      "/home/user1/notebooks/share/git/work-nagaku/.log/20200214/20200214-122119-0694.log",
      "/home/user1/notebooks/share/git/work-nagaku/.log/20200214/20200214-122553-0804.log",
      "/home/user1/notebooks/share/git/work-nagaku/.log/20200214/20200214-122705-0344.log",
      "/home/user1/notebooks/share/git/work-nagaku/.log/20200214/20200214-122807-0399.log",
      "/home/user1/notebooks/share/git/work-nagaku/.log/20200214/20200214-122833-0716.log",
      "/home/user1/notebooks/share/git/work-nagaku/.log/20200214/20200214-122901-0376.log",
      "/home/user1/notebooks/share/git/work-nagaku/.log/20200214/20200214-123007-0023.log",
      "/home/jovyan/notebooks-diagram/.log/20200710/20200710-080019-0503.log",
      "/home/jovyan/notebooks-diagram/.log/20200710/20200710-092348-0901.log",
      "/home/jovyan/notebooks-diagram/.log/20200716/20200716-065127-0985.log",
      "/home/jovyan/notebooks-diagram/.log/20200716/20200716-065339-0284.log",
      "/home/jovyan/notebooks-diagram/.log/20200716/20200716-065822-0323.log",
      "/home/jovyan/notebooks-diagram/.log/20200716/20200716-070257-0231.log",
      "/home/jovyan/notebooks-diagram/.log/20200716/20200716-070628-0322.log",
      "/home/jovyan/notebooks-diagram/.log/20200716/20200716-070723-0485.log",
      "/home/jovyan/notebooks-diagram/.log/20200716/20200716-072042-0530.log",
      "/home/jovyan/notebooks-diagram/.log/20200716/20200716-072151-0156.log",
      "/home/jovyan/notebooks-diagram/.log/20200716/20200716-072237-0909.log"
     ]
    },
    "run_control": {
     "frozen": true
    }
   },
   "outputs": [],
   "source": [
    "disabled = {}"
   ]
  },
  {
   "cell_type": "code",
   "execution_count": null,
   "metadata": {
    "lc_cell_meme": {
     "current": "f64e550a-13c3-11e7-b31a-0242ac12000d-2-e0ea-8b42",
     "history": [
      {
       "current": "f64e550a-13c3-11e7-b31a-0242ac12000d",
       "next": "f64e56d6-13c3-11e7-b31a-0242ac12000d",
       "previous": "f64e5334-13c3-11e7-b31a-0242ac12000d"
      },
      {
       "current": "f64e550a-13c3-11e7-b31a-0242ac12000d",
       "next": "f64e56d6-13c3-11e7-b31a-0242ac12000d",
       "previous": "855aa7d0-13c4-11e7-b31a-0242ac12000d"
      },
      {
       "current": "f64e550a-13c3-11e7-b31a-0242ac12000d",
       "next": "ccdd077e-13c4-11e7-b31a-0242ac12000d",
       "previous": "855aa7d0-13c4-11e7-b31a-0242ac12000d"
      },
      {
       "current": "f64e550a-13c3-11e7-b31a-0242ac12000d",
       "next": "f64e5c30-13c3-11e7-b31a-0242ac12000d",
       "previous": "855aa7d0-13c4-11e7-b31a-0242ac12000d"
      },
      {
       "current": "f64e550a-13c3-11e7-b31a-0242ac12000d",
       "next": "f64e5e10-13c3-11e7-b31a-0242ac12000d",
       "previous": "855aa7d0-13c4-11e7-b31a-0242ac12000d"
      },
      {
       "current": "f64e550a-13c3-11e7-b31a-0242ac12000d",
       "next": "0d37e028-1fd2-11e7-b31a-0242ac12000d",
       "previous": "855aa7d0-13c4-11e7-b31a-0242ac12000d"
      },
      {
       "current": "f64e550a-13c3-11e7-b31a-0242ac12000d",
       "next": "0d37e028-1fd2-11e7-b31a-0242ac12000d",
       "previous": "a4bb6fc2-4a7b-11e7-b37f-02420aff0006"
      },
      {
       "current": "f64e550a-13c3-11e7-b31a-0242ac12000d-1-e0ea",
       "next": "0d37e028-1fd2-11e7-b31a-0242ac12000d",
       "previous": "ec3bef98-4a7b-11e7-b37f-02420aff0006"
      },
      {
       "current": "f64e550a-13c3-11e7-b31a-0242ac12000d-2-e0ea-8b42",
       "next": "0d37e028-1fd2-11e7-b31a-0242ac12000d-1-e572",
       "previous": "ec3bef98-4a7b-11e7-b37f-02420aff0006-1-2e9f"
      }
     ],
     "next": "0d37e028-1fd2-11e7-b31a-0242ac12000d-2-e572-56c7",
     "previous": "ec3bef98-4a7b-11e7-b37f-02420aff0006-2-2e9f-a7da"
    },
    "lc_wrapper": {
     "log_history": [
      "/home/nagaku/notebooks/wifi/.log/20200214/20200214-055615-0493.log",
      "/home/nagaku/notebooks/wifi/.log/20200214/20200214-055724-0880.log",
      "/home/nagaku/notebooks/wifi/.log/20200214/20200214-055738-0772.log",
      "/home/nagaku/notebooks/wifi/.log/20200214/20200214-060630-0363.log",
      "/home/nagaku/notebooks/wifi/.log/20200214/20200214-060712-0128.log",
      "/home/nagaku/notebooks/wifi/.log/20200214/20200214-060738-0707.log",
      "/home/nagaku/notebooks/wifi/.log/20200214/20200214-060743-0315.log",
      "/home/nagaku/notebooks/wifi/.log/20200214/20200214-061105-0894.log",
      "/home/nagaku/notebooks/wifi/.log/20200214/20200214-061127-0281.log",
      "/home/nagaku/notebooks/wifi/.log/20200214/20200214-061140-0429.log",
      "/home/nagaku/notebooks/wifi/.log/20200214/20200214-061314-0959.log",
      "/home/nagaku/notebooks/wifi/.log/20200214/20200214-061503-0048.log",
      "/home/nagaku/notebooks/wifi/.log/20200214/20200214-061608-0322.log",
      "/home/nagaku/notebooks/wifi/.log/20200214/20200214-061637-0912.log",
      "/home/nagaku/notebooks/wifi/.log/20200214/20200214-061710-0220.log",
      "/home/nagaku/notebooks/wifi/.log/20200214/20200214-062649-0277.log",
      "/home/nagaku/notebooks/wifi/.log/20200214/20200214-062741-0604.log",
      "/home/nagaku/notebooks/wifi/.log/20200214/20200214-062826-0087.log",
      "/home/nagaku/notebooks/wifi/.log/20200214/20200214-062900-0661.log",
      "/home/user1/notebooks/share/git/work-nagaku/.log/20200214/20200214-090947-0589.log",
      "/home/user1/notebooks/share/git/work-nagaku/.log/20200214/20200214-091021-0934.log",
      "/home/user1/notebooks/share/git/work-nagaku/.log/20200214/20200214-091110-0383.log",
      "/home/user1/notebooks/share/git/work-nagaku/.log/20200214/20200214-091223-0880.log",
      "/home/user1/notebooks/share/git/work-nagaku/.log/20200214/20200214-092552-0568.log",
      "/home/user1/notebooks/share/git/work-nagaku/.log/20200214/20200214-092636-0454.log",
      "/home/user1/notebooks/share/git/work-nagaku/.log/20200214/20200214-092657-0627.log",
      "/home/user1/notebooks/share/git/work-nagaku/.log/20200214/20200214-092725-0699.log",
      "/home/user1/notebooks/share/git/work-nagaku/.log/20200214/20200214-121718-0372.log",
      "/home/user1/notebooks/share/git/work-nagaku/.log/20200214/20200214-122120-0212.log",
      "/home/user1/notebooks/share/git/work-nagaku/.log/20200214/20200214-122553-0818.log",
      "/home/user1/notebooks/share/git/work-nagaku/.log/20200214/20200214-122705-0503.log",
      "/home/user1/notebooks/share/git/work-nagaku/.log/20200214/20200214-122807-0414.log",
      "/home/user1/notebooks/share/git/work-nagaku/.log/20200214/20200214-122833-0732.log",
      "/home/user1/notebooks/share/git/work-nagaku/.log/20200214/20200214-122901-0392.log",
      "/home/user1/notebooks/share/git/work-nagaku/.log/20200214/20200214-123007-0040.log",
      "/home/jovyan/notebooks-diagram/.log/20200710/20200710-080019-0817.log",
      "/home/jovyan/notebooks-diagram/.log/20200710/20200710-092359-0404.log",
      "/home/jovyan/notebooks-diagram/.log/20200716/20200716-065128-0391.log",
      "/home/jovyan/notebooks-diagram/.log/20200716/20200716-065339-0747.log",
      "/home/jovyan/notebooks-diagram/.log/20200716/20200716-065822-0334.log",
      "/home/jovyan/notebooks-diagram/.log/20200716/20200716-070257-0414.log",
      "/home/jovyan/notebooks-diagram/.log/20200716/20200716-070628-0344.log",
      "/home/jovyan/notebooks-diagram/.log/20200716/20200716-070723-0882.log",
      "/home/jovyan/notebooks-diagram/.log/20200716/20200716-072042-0979.log",
      "/home/jovyan/notebooks-diagram/.log/20200716/20200716-072151-0172.log",
      "/home/jovyan/notebooks-diagram/.log/20200716/20200716-072237-0922.log"
     ]
    },
    "pinned_outputs": [
     {
      "execution_count": 8,
      "outputs": [
       {
        "data": {
         "image/svg+xml": "<svg viewBox=\"0 0 856 610\" xmlns=\"http://www.w3.org/2000/svg\" xmlns:inkspace=\"http://www.inkscape.org/namespaces/inkscape\" xmlns:xlink=\"http://www.w3.org/1999/xlink\">\n  <defs id=\"defs_block\">\n    <filter height=\"1.504\" id=\"filter_blur\" inkspace:collect=\"always\" width=\"1.1575\" x=\"-0.07875\" y=\"-0.252\">\n      <feGaussianBlur id=\"feGaussianBlur3780\" inkspace:collect=\"always\" stdDeviation=\"4.2\"/>\n    </filter>\n  </defs>\n  <title>blockdiag</title>\n  <desc>blockdiag {\n    node_width = 200;\n    node_height = 150;\n    \n    stage1 -&gt; stage2\n    stage2 -&gt; stage3\n\n    stage1 -&gt; stage1check\n    stage2 -&gt; stage2check\n    stage3 -&gt; stage3check\n\n    stage1check -&gt; stage1recovery1\n    stage1check -&gt; stage1recovery2\n\n    group {\n        label = &quot;正常系&quot;\n        orientation = portrait\n        stage1\n        stage2\n        stage3\n    }\n    group {\n        label = &quot;障害調査系&quot;\n        stage1check\n        stage2check\n        stage3check\n    }\n    group {\n        label = &quot;障害対処系&quot;\n        stage1recovery1\n        stage1recovery2\n    }\n}\n</desc>\n  <rect fill=\"rgb(243,152,0)\" height=\"550\" style=\"filter:url(#filter_blur)\" width=\"216\" x=\"56\" y=\"30\"/>\n  <rect fill=\"rgb(243,152,0)\" height=\"550\" style=\"filter:url(#filter_blur)\" width=\"216\" x=\"320\" y=\"30\"/>\n  <rect fill=\"rgb(243,152,0)\" height=\"360\" style=\"filter:url(#filter_blur)\" width=\"216\" x=\"584\" y=\"30\"/>\n  <rect fill=\"rgb(0,0,0)\" height=\"150\" stroke=\"rgb(0,0,0)\" style=\"filter:url(#filter_blur);opacity:0.7;fill-opacity:1\" width=\"200\" x=\"67\" y=\"46\"/>\n  <rect fill=\"rgb(0,0,0)\" height=\"150\" stroke=\"rgb(0,0,0)\" style=\"filter:url(#filter_blur);opacity:0.7;fill-opacity:1\" width=\"200\" x=\"67\" y=\"236\"/>\n  <rect fill=\"rgb(0,0,0)\" height=\"150\" stroke=\"rgb(0,0,0)\" style=\"filter:url(#filter_blur);opacity:0.7;fill-opacity:1\" width=\"200\" x=\"67\" y=\"426\"/>\n  <rect fill=\"rgb(0,0,0)\" height=\"150\" stroke=\"rgb(0,0,0)\" style=\"filter:url(#filter_blur);opacity:0.7;fill-opacity:1\" width=\"200\" x=\"331\" y=\"46\"/>\n  <rect fill=\"rgb(0,0,0)\" height=\"150\" stroke=\"rgb(0,0,0)\" style=\"filter:url(#filter_blur);opacity:0.7;fill-opacity:1\" width=\"200\" x=\"331\" y=\"236\"/>\n  <rect fill=\"rgb(0,0,0)\" height=\"150\" stroke=\"rgb(0,0,0)\" style=\"filter:url(#filter_blur);opacity:0.7;fill-opacity:1\" width=\"200\" x=\"331\" y=\"426\"/>\n  <rect fill=\"rgb(0,0,0)\" height=\"150\" stroke=\"rgb(0,0,0)\" style=\"filter:url(#filter_blur);opacity:0.7;fill-opacity:1\" width=\"200\" x=\"595\" y=\"46\"/>\n  <rect fill=\"rgb(0,0,0)\" height=\"150\" stroke=\"rgb(0,0,0)\" style=\"filter:url(#filter_blur);opacity:0.7;fill-opacity:1\" width=\"200\" x=\"595\" y=\"236\"/>\n  <rect fill=\"rgb(255,255,255)\" height=\"150\" stroke=\"rgb(0,0,0)\" width=\"200\" x=\"64\" y=\"40\"/>\n  <text fill=\"rgb(0,0,0)\" font-anchor=\"middle\" font-family=\"sans-serif\" font-size=\"9\" font-style=\"normal\" font-weight=\"normal\" width=\"196\" x=\"66\" y=\"115\">- 何か準備する</text><text fill=\"rgb(0,0,0)\" font-anchor=\"middle\" font-family=\"sans-serif\" font-size=\"9\" font-style=\"italic\" font-weight=\"normal\" width=\"196\" x=\"66\" y=\"91\">このステージ1の概要を説明する。</text><a xlink:href=\"stage1.ipynb\"><text fill=\"rgb(0,0,0)\" font-anchor=\"middle\" font-family=\"sans-serif\" font-size=\"14\" font-style=\"normal\" font-weight=\"bold\" width=\"196\" x=\"66\" y=\"67.0\">ステージ1</text></a><rect fill=\"rgb(255,255,255)\" height=\"150\" stroke=\"rgb(0,0,0)\" width=\"200\" x=\"64\" y=\"230\"/>\n  <text fill=\"rgb(0,0,0)\" font-anchor=\"middle\" font-family=\"sans-serif\" font-size=\"9\" font-style=\"normal\" font-weight=\"normal\" width=\"196\" x=\"66\" y=\"305\">- 何かが構築される</text><text fill=\"rgb(0,0,0)\" font-anchor=\"middle\" font-family=\"sans-serif\" font-size=\"9\" font-style=\"italic\" font-weight=\"normal\" width=\"196\" x=\"66\" y=\"281\">このステージ2の概要を説明する。</text><a xlink:href=\"stage2.ipynb\"><text fill=\"rgb(0,0,0)\" font-anchor=\"middle\" font-family=\"sans-serif\" font-size=\"14\" font-style=\"normal\" font-weight=\"bold\" width=\"196\" x=\"66\" y=\"257.0\">ステージ2</text></a><rect fill=\"rgb(255,255,255)\" height=\"150\" stroke=\"rgb(0,0,0)\" width=\"200\" x=\"64\" y=\"420\"/>\n  <text fill=\"rgb(0,0,0)\" font-anchor=\"middle\" font-family=\"sans-serif\" font-size=\"9\" font-style=\"normal\" font-weight=\"normal\" width=\"196\" x=\"66\" y=\"495\">- 後始末</text><text fill=\"rgb(0,0,0)\" font-anchor=\"middle\" font-family=\"sans-serif\" font-size=\"9\" font-style=\"italic\" font-weight=\"normal\" width=\"196\" x=\"66\" y=\"471\">このステージ3の概要を説明する。</text><a xlink:href=\"stage3.ipynb\"><text fill=\"rgb(0,0,0)\" font-anchor=\"middle\" font-family=\"sans-serif\" font-size=\"14\" font-style=\"normal\" font-weight=\"bold\" width=\"196\" x=\"66\" y=\"447.0\">ステージ3</text></a><rect fill=\"rgb(255,255,255)\" height=\"150\" stroke=\"rgb(0,0,0)\" width=\"200\" x=\"328\" y=\"40\"/>\n  <text fill=\"rgb(0,0,0)\" font-anchor=\"middle\" font-family=\"sans-serif\" font-size=\"9\" font-style=\"normal\" font-weight=\"normal\" width=\"196\" x=\"330\" y=\"115\">- いろいろ調べる</text><text fill=\"rgb(0,0,0)\" font-anchor=\"middle\" font-family=\"sans-serif\" font-size=\"9\" font-style=\"italic\" font-weight=\"normal\" width=\"196\" x=\"330\" y=\"91\"/><a xlink:href=\"stage1check.ipynb\"><text fill=\"rgb(0,0,0)\" font-anchor=\"middle\" font-family=\"sans-serif\" font-size=\"14\" font-style=\"normal\" font-weight=\"bold\" width=\"196\" x=\"330\" y=\"67.0\">ステージ1障害時の調査</text></a><rect fill=\"rgb(255,255,255)\" height=\"150\" stroke=\"rgb(0,0,0)\" width=\"200\" x=\"328\" y=\"230\"/>\n  <text fill=\"rgb(0,0,0)\" font-anchor=\"middle\" font-family=\"sans-serif\" font-size=\"9\" font-style=\"normal\" font-weight=\"normal\" width=\"196\" x=\"330\" y=\"305\">- いろいろ調べる</text><text fill=\"rgb(0,0,0)\" font-anchor=\"middle\" font-family=\"sans-serif\" font-size=\"9\" font-style=\"italic\" font-weight=\"normal\" width=\"196\" x=\"330\" y=\"281\"/><a xlink:href=\"stage2check.ipynb\"><text fill=\"rgb(0,0,0)\" font-anchor=\"middle\" font-family=\"sans-serif\" font-size=\"14\" font-style=\"normal\" font-weight=\"bold\" width=\"196\" x=\"330\" y=\"257.0\">ステージ2障害時の調査</text></a><rect fill=\"rgb(255,255,255)\" height=\"150\" stroke=\"rgb(0,0,0)\" width=\"200\" x=\"328\" y=\"420\"/>\n  <text fill=\"rgb(0,0,0)\" font-anchor=\"middle\" font-family=\"sans-serif\" font-size=\"9\" font-style=\"normal\" font-weight=\"normal\" width=\"196\" x=\"330\" y=\"495\">- いろいろ調べる</text><text fill=\"rgb(0,0,0)\" font-anchor=\"middle\" font-family=\"sans-serif\" font-size=\"9\" font-style=\"italic\" font-weight=\"normal\" width=\"196\" x=\"330\" y=\"471\"/><a xlink:href=\"stage3check.ipynb\"><text fill=\"rgb(0,0,0)\" font-anchor=\"middle\" font-family=\"sans-serif\" font-size=\"14\" font-style=\"normal\" font-weight=\"bold\" width=\"196\" x=\"330\" y=\"447.0\">ステージ3障害時の調査</text></a><rect fill=\"rgb(255,255,255)\" height=\"150\" stroke=\"rgb(0,0,0)\" width=\"200\" x=\"592\" y=\"40\"/>\n  <text fill=\"rgb(0,0,0)\" font-anchor=\"middle\" font-family=\"sans-serif\" font-size=\"9\" font-style=\"normal\" font-weight=\"normal\" width=\"196\" x=\"594\" y=\"137\">- 治ったことを確認する</text><text fill=\"rgb(0,0,0)\" font-anchor=\"middle\" font-family=\"sans-serif\" font-size=\"9\" font-style=\"normal\" font-weight=\"normal\" width=\"196\" x=\"594\" y=\"126\">- ネットワークを直す</text><text fill=\"rgb(0,0,0)\" font-anchor=\"middle\" font-family=\"sans-serif\" font-size=\"9\" font-style=\"normal\" font-weight=\"normal\" width=\"196\" x=\"594\" y=\"115\">- 状況を確認する</text><text fill=\"rgb(0,0,0)\" font-anchor=\"middle\" font-family=\"sans-serif\" font-size=\"9\" font-style=\"italic\" font-weight=\"normal\" width=\"196\" x=\"594\" y=\"91\"/><a xlink:href=\"stage1recovery1.ipynb\"><text fill=\"rgb(0,0,0)\" font-anchor=\"middle\" font-family=\"sans-serif\" font-size=\"14\" font-style=\"normal\" font-weight=\"bold\" width=\"196\" x=\"594\" y=\"59\">ステージ1の障害対応1：</text><text fill=\"rgb(0,0,0)\" font-anchor=\"middle\" font-family=\"sans-serif\" font-size=\"14\" font-style=\"normal\" font-weight=\"bold\" width=\"196\" x=\"594\" y=\"75\">ネットワークの準備ができない</text></a><rect fill=\"rgb(255,255,255)\" height=\"150\" stroke=\"rgb(0,0,0)\" width=\"200\" x=\"592\" y=\"230\"/>\n  <text fill=\"rgb(0,0,0)\" font-anchor=\"middle\" font-family=\"sans-serif\" font-size=\"9\" font-style=\"normal\" font-weight=\"normal\" width=\"196\" x=\"594\" y=\"327\">- 治ったことを確認する</text><text fill=\"rgb(0,0,0)\" font-anchor=\"middle\" font-family=\"sans-serif\" font-size=\"9\" font-style=\"normal\" font-weight=\"normal\" width=\"196\" x=\"594\" y=\"316\">- メモリを解放する</text><text fill=\"rgb(0,0,0)\" font-anchor=\"middle\" font-family=\"sans-serif\" font-size=\"9\" font-style=\"normal\" font-weight=\"normal\" width=\"196\" x=\"594\" y=\"305\">- 状況を確認する</text><text fill=\"rgb(0,0,0)\" font-anchor=\"middle\" font-family=\"sans-serif\" font-size=\"9\" font-style=\"italic\" font-weight=\"normal\" width=\"196\" x=\"594\" y=\"281\"/><a xlink:href=\"stage1recovery2.ipynb\"><text fill=\"rgb(0,0,0)\" font-anchor=\"middle\" font-family=\"sans-serif\" font-size=\"14\" font-style=\"normal\" font-weight=\"bold\" width=\"196\" x=\"594\" y=\"249\">ステージ1の障害対応2：</text><text fill=\"rgb(0,0,0)\" font-anchor=\"middle\" font-family=\"sans-serif\" font-size=\"14\" font-style=\"normal\" font-weight=\"bold\" width=\"196\" x=\"594\" y=\"265\">メモリが足りない</text></a><path d=\"M 164 190 L 164 222\" fill=\"none\" stroke=\"rgb(0,0,0)\"/>\n  <polygon fill=\"rgb(0,0,0)\" points=\"164,229 160,222 168,222 164,229\" stroke=\"rgb(0,0,0)\"/>\n  <path d=\"M 264 115 L 320 115\" fill=\"none\" stroke=\"rgb(0,0,0)\"/>\n  <polygon fill=\"rgb(0,0,0)\" points=\"327,115 320,111 320,119 327,115\" stroke=\"rgb(0,0,0)\"/>\n  <path d=\"M 164 380 L 164 412\" fill=\"none\" stroke=\"rgb(0,0,0)\"/>\n  <polygon fill=\"rgb(0,0,0)\" points=\"164,419 160,412 168,412 164,419\" stroke=\"rgb(0,0,0)\"/>\n  <path d=\"M 264 305 L 320 305\" fill=\"none\" stroke=\"rgb(0,0,0)\"/>\n  <polygon fill=\"rgb(0,0,0)\" points=\"327,305 320,301 320,309 327,305\" stroke=\"rgb(0,0,0)\"/>\n  <path d=\"M 264 495 L 320 495\" fill=\"none\" stroke=\"rgb(0,0,0)\"/>\n  <polygon fill=\"rgb(0,0,0)\" points=\"327,495 320,491 320,499 327,495\" stroke=\"rgb(0,0,0)\"/>\n  <path d=\"M 528 115 L 584 115\" fill=\"none\" stroke=\"rgb(0,0,0)\"/>\n  <polygon fill=\"rgb(0,0,0)\" points=\"591,115 584,111 584,119 591,115\" stroke=\"rgb(0,0,0)\"/>\n  <path d=\"M 528 115 L 560 115\" fill=\"none\" stroke=\"rgb(0,0,0)\"/>\n  <path d=\"M 560 115 L 560 305\" fill=\"none\" stroke=\"rgb(0,0,0)\"/>\n  <path d=\"M 560 305 L 584 305\" fill=\"none\" stroke=\"rgb(0,0,0)\"/>\n  <polygon fill=\"rgb(0,0,0)\" points=\"591,305 584,301 584,309 591,305\" stroke=\"rgb(0,0,0)\"/>\n  <text fill=\"rgb(0,0,0)\" font-family=\"sans-serif\" font-size=\"11\" font-style=\"normal\" font-weight=\"normal\" text-anchor=\"middle\" textLength=\"33\" x=\"164.5\" y=\"36\">正常系</text>\n  <text fill=\"rgb(0,0,0)\" font-family=\"sans-serif\" font-size=\"11\" font-style=\"normal\" font-weight=\"normal\" text-anchor=\"middle\" textLength=\"55\" x=\"428.5\" y=\"36\">障害調査系</text>\n  <text fill=\"rgb(0,0,0)\" font-family=\"sans-serif\" font-size=\"11\" font-style=\"normal\" font-weight=\"normal\" text-anchor=\"middle\" textLength=\"55\" x=\"692.5\" y=\"36\">障害対処系</text>\n</svg>",
         "text/plain": "<IPython.core.display.SVG object>"
        },
        "execution_count": 8,
        "metadata": {},
        "output_type": "execute_result"
       }
      ]
     }
    ],
    "run_control": {
     "frozen": true
    },
    "scrolled": false
   },
   "outputs": [],
   "source": [
    "import re\n",
    "from lxml import etree\n",
    "%run generate-diagram.py\n",
    "\n",
    "# Notebookの一覧列挙\n",
    "ref_notebooks = filter(lambda m: m, map(lambda n: re.match(r'(.+)\\.ipynb', n), os.listdir('.')))\n",
    "ref_notebooks = sorted(ref_notebooks, key=lambda m: m.group(1))\n",
    "notebook_headers = [(m.group(1), parse_headers(m.group(0))) for m in ref_notebooks]\n",
    "\n",
    "# 雛形の読み込み\n",
    "tree = etree.parse(os.path.join(work_dir, 'notebooks.svg'))\n",
    "        \n",
    "# 雛形をNotebook情報で置き換え\n",
    "for elem in list(tree.findall('{http://www.w3.org/2000/svg}text')):\n",
    "    if elem.getprevious() is not None and elem.getprevious().tag == '{http://www.w3.org/2000/svg}rect' \\\n",
    "       and len(elem.text) > 0:\n",
    "        target_headers = [(name, h) for name, h in notebook_headers if name.startswith(elem.text)]\n",
    "        rect_elem = elem.getprevious()\n",
    "        if len(target_headers) > 0:\n",
    "            rect = ((int(rect_elem.attrib['x']), int(rect_elem.attrib['y'])), (int(rect_elem.attrib['width']),\n",
    "                                                                               int(rect_elem.attrib['height'])))\n",
    "        \n",
    "            childpos = elem.getparent().index(elem)\n",
    "            parent_elem = elem.getparent()\n",
    "            remove_texts(elem)\n",
    "            insert_title(parent_elem, childpos, rect, target_headers[0][1][0][0], target_headers[0][0] + '.ipynb')            \n",
    "            insert_summary(parent_elem, childpos, rect, target_headers[0][1][0][1])\n",
    "            insert_headers(parent_elem, childpos, rect, target_headers[0][1][1:])\n",
    "        elif elem.text in disabled:\n",
    "            rect_elem.attrib['fill'] = 'rgb(192, 192, 192)'\n",
    "            rect = ((int(rect_elem.attrib['x']), int(rect_elem.attrib['y'])), (int(rect_elem.attrib['width']),\n",
    "                                                                               int(rect_elem.attrib['height'])))\n",
    "        \n",
    "            childpos = elem.getparent().index(elem)\n",
    "            parent_elem = elem.getparent()\n",
    "            remove_texts(elem)\n",
    "            insert_title(parent_elem, childpos, rect, disabled[elem.text][0])\n",
    "            insert_summary(parent_elem, childpos, rect, '本デモ環境では利用できません')\n",
    "            insert_headers(parent_elem, childpos, rect, disabled[elem.text][1])\n",
    "        else:\n",
    "            print(elem.text)\n",
    "\n",
    "# SVGの保存・表示\n",
    "with open('readme.svg', 'w') as f:\n",
    "    f.write(str(etree.tostring(tree, method='xml', pretty_print=True).decode()))\n",
    "\n",
    "SVG(filename='readme.svg')"
   ]
  },
  {
   "cell_type": "markdown",
   "metadata": {
    "lc_cell_meme": {
     "current": "0d37e028-1fd2-11e7-b31a-0242ac12000d-2-e572-56c7",
     "history": [
      {
       "current": "0d37e028-1fd2-11e7-b31a-0242ac12000d-1-e572",
       "next": "f11e7dfc-13c4-11e7-b31a-0242ac12000d",
       "previous": "f64e550a-13c3-11e7-b31a-0242ac12000d"
      },
      {
       "current": "0d37e028-1fd2-11e7-b31a-0242ac12000d-2-e572-56c7",
       "next": "f11e7dfc-13c4-11e7-b31a-0242ac12000d-1-d21c",
       "previous": "f64e550a-13c3-11e7-b31a-0242ac12000d-1-e0ea"
      }
     ],
     "next": "f11e7dfc-13c4-11e7-b31a-0242ac12000d-2-d21c-976b",
     "previous": "f64e550a-13c3-11e7-b31a-0242ac12000d-2-e0ea-8b42"
    }
   },
   "source": [
    "# 後始末\n",
    "\n",
    "一時ファイルを削除します。"
   ]
  },
  {
   "cell_type": "code",
   "execution_count": null,
   "metadata": {
    "lc_cell_meme": {
     "current": "f11e7dfc-13c4-11e7-b31a-0242ac12000d-2-d21c-976b",
     "history": [
      {
       "current": "f11e7dfc-13c4-11e7-b31a-0242ac12000d",
       "next": null,
       "previous": "f64e6540-13c3-11e7-b31a-0242ac12000d"
      },
      {
       "current": "f11e7dfc-13c4-11e7-b31a-0242ac12000d",
       "next": null,
       "previous": "0d37e028-1fd2-11e7-b31a-0242ac12000d"
      },
      {
       "current": "f11e7dfc-13c4-11e7-b31a-0242ac12000d-1-d21c",
       "next": "5499adcc-4f0c-11ea-903d-0242ac120006",
       "previous": "0d37e028-1fd2-11e7-b31a-0242ac12000d"
      },
      {
       "current": "f11e7dfc-13c4-11e7-b31a-0242ac12000d-2-d21c-976b",
       "next": "5499adcc-4f0c-11ea-903d-0242ac120006-1-e853",
       "previous": "0d37e028-1fd2-11e7-b31a-0242ac12000d-1-e572"
      }
     ],
     "next": "5499adcc-4f0c-11ea-903d-0242ac120006-2-e853-8d60",
     "previous": "0d37e028-1fd2-11e7-b31a-0242ac12000d-2-e572-56c7"
    },
    "lc_wrapper": {
     "log_history": [
      "/home/nagaku/notebooks/wifi/.log/20200214/20200214-055744-0633.log",
      "/home/user1/notebooks/share/git/work-nagaku/.log/20200214/20200214-092741-0797.log",
      "/home/user1/notebooks/share/git/work-nagaku/.log/20200214/20200214-123157-0213.log",
      "/home/jovyan/notebooks-diagram/.log/20200710/20200710-080024-0180.log",
      "/home/jovyan/notebooks-diagram/.log/20200710/20200710-092438-0378.log",
      "/home/jovyan/notebooks-diagram/.log/20200716/20200716-065132-0230.log",
      "/home/jovyan/notebooks-diagram/.log/20200716/20200716-065354-0228.log",
      "/home/jovyan/notebooks-diagram/.log/20200716/20200716-065823-0286.log",
      "/home/jovyan/notebooks-diagram/.log/20200716/20200716-070258-0533.log",
      "/home/jovyan/notebooks-diagram/.log/20200716/20200716-070630-0255.log",
      "/home/jovyan/notebooks-diagram/.log/20200716/20200716-070726-0050.log",
      "/home/jovyan/notebooks-diagram/.log/20200716/20200716-072102-0770.log",
      "/home/jovyan/notebooks-diagram/.log/20200716/20200716-072151-0273.log",
      "/home/jovyan/notebooks-diagram/.log/20200716/20200716-072238-0101.log"
     ]
    },
    "run_control": {
     "frozen": true
    }
   },
   "outputs": [],
   "source": [
    "!rm -fr {work_dir}"
   ]
  },
  {
   "cell_type": "code",
   "execution_count": null,
   "metadata": {
    "lc_cell_meme": {
     "current": "5499adcc-4f0c-11ea-903d-0242ac120006-2-e853-8d60",
     "history": [
      {
       "current": "5499adcc-4f0c-11ea-903d-0242ac120006-1-e853",
       "next": null,
       "previous": "f11e7dfc-13c4-11e7-b31a-0242ac12000d"
      },
      {
       "current": "5499adcc-4f0c-11ea-903d-0242ac120006-2-e853-8d60",
       "next": null,
       "previous": "f11e7dfc-13c4-11e7-b31a-0242ac12000d-1-d21c"
      }
     ],
     "next": null,
     "previous": "f11e7dfc-13c4-11e7-b31a-0242ac12000d-2-d21c-976b"
    }
   },
   "outputs": [],
   "source": []
  }
 ],
 "metadata": {
  "anaconda-cloud": {},
  "kernelspec": {
   "display_name": "Python 3",
   "language": "python",
   "name": "python3"
  },
  "language_info": {
   "file_extension": ".py",
   "mimetype": "text/x-python",
   "name": "python",
   "nbconvert_exporter": "python",
   "pygments_lexer": "ipython3",
   "version": "3.7.6"
  },
  "lc_notebook_meme": {
   "current": "f64e4038-13c3-11e7-b31a-0242ac12000d",
   "lc_server_signature": {
    "current": {
     "notebook_dir": "/home/jovyan",
     "notebook_path": "/notebooks-diagram",
     "server_url": "http://localhost:8888/",
     "signature_id": "46d88d42-c730-11ea-88fb-0242ac110002"
    },
    "history": [
     {
      "notebook_dir": "/notebooks",
      "notebook_path": "/evaluation-tracer",
      "server_url": "http://pwd10-0-9-3-8888.host4.labs.play-with-docker.com/",
      "signature_id": "6a48c2b2-a715-11e7-870a-02420aff0006"
     },
     {
      "notebook_dir": "/notebooks",
      "notebook_path": "/evaluation-tracer",
      "server_url": "http://localhost:8888/",
      "signature_id": "cdfb1abc-a986-11e7-b932-0242ac130002"
     },
     {
      "notebook_dir": "/notebooks",
      "notebook_path": "/wifi",
      "server_url": "http://192.168.14.2:8888/",
      "signature_id": "5169c75c-d986-11e7-a0fe-0242ac120002"
     },
     {
      "notebook_dir": "/home/nagaku/notebooks",
      "notebook_path": "/wifi",
      "server_url": "https://34.223.48.197/user/nagaku/",
      "signature_id": "17dd5b40-4d59-11ea-813a-0242ac120002"
     },
     {
      "notebook_dir": "/home/user1/notebooks",
      "notebook_path": "/share/git/work-nagaku",
      "server_url": "https://operationhub.kgr-lab.com/user/user1/",
      "signature_id": "ae27fcb2-043f-11ea-b29c-0242ac120002"
     },
     {
      "notebook_dir": "/home/jovyan",
      "notebook_path": "/notebooks-diagram",
      "server_url": "http://localhost:8888/",
      "signature_id": "860cf03e-c280-11ea-87c0-0242ac110002"
     }
    ]
   }
  },
  "toc": {
   "base_numbering": 1,
   "nav_menu": {
    "height": "191px",
    "width": "252px"
   },
   "number_sections": true,
   "sideBar": true,
   "skip_h1_title": false,
   "title_cell": "Table of Contents",
   "title_sidebar": "Contents",
   "toc_cell": false,
   "toc_position": {
    "height": "823px",
    "left": "0px",
    "right": "1455px",
    "top": "106px",
    "width": "212px"
   },
   "toc_section_display": "block",
   "toc_window_display": true
  }
 },
 "nbformat": 4,
 "nbformat_minor": 1
}
