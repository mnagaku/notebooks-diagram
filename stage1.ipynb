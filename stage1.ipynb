{
 "cells": [
  {
   "cell_type": "markdown",
   "metadata": {
    "lc_cell_meme": {
     "current": "d85e0558-c280-11ea-87c0-0242ac110002-2-9220-98dc",
     "history": [
      {
       "current": "d85e0558-c280-11ea-87c0-0242ac110002-2-9220-98dc",
       "next": "d85e0666-c280-11ea-87c0-0242ac110002",
       "previous": null
      }
     ],
     "next": "d85e0558-c280-11ea-87c0-0242ac110002-1-ade0",
     "previous": null
    }
   },
   "source": [
    "# ステージ1\n",
    "\n",
    "このステージ1の概要を説明する。"
   ]
  },
  {
   "cell_type": "markdown",
   "metadata": {
    "lc_cell_meme": {
     "current": "d85e0558-c280-11ea-87c0-0242ac110002-1-ade0",
     "history": [
      {
       "current": "d85e0558-c280-11ea-87c0-0242ac110002-1-ade0",
       "next": "d85e0666-c280-11ea-87c0-0242ac110002",
       "previous": null
      },
      {
       "current": "d85e0558-c280-11ea-87c0-0242ac110002-1-ade0",
       "next": "d85e0666-c280-11ea-87c0-0242ac110002-1-e6e3",
       "previous": "d85e0558-c280-11ea-87c0-0242ac110002-2-9220-98dc"
      }
     ],
     "next": "9ed43e82-c731-11ea-88fb-0242ac110002",
     "previous": "d85e0558-c280-11ea-87c0-0242ac110002-2-9220-98dc"
    }
   },
   "source": [
    "## 何か準備する\n",
    "\n",
    "ここの本文はSVGに反映されない。"
   ]
  },
  {
   "cell_type": "markdown",
   "metadata": {
    "lc_cell_meme": {
     "current": "9ed43e82-c731-11ea-88fb-0242ac110002",
     "next": "d85e0666-c280-11ea-87c0-0242ac110002-1-e6e3",
     "previous": "d85e0558-c280-11ea-87c0-0242ac110002-1-ade0"
    }
   },
   "source": [
    "### この見出しはSVGに反映されない"
   ]
  },
  {
   "cell_type": "code",
   "execution_count": null,
   "metadata": {
    "lc_cell_meme": {
     "current": "d85e0666-c280-11ea-87c0-0242ac110002-1-e6e3",
     "history": [
      {
       "current": "d85e0666-c280-11ea-87c0-0242ac110002-1-e6e3",
       "next": null,
       "previous": "d85e0558-c280-11ea-87c0-0242ac110002"
      },
      {
       "current": "d85e0666-c280-11ea-87c0-0242ac110002-1-e6e3",
       "next": null,
       "previous": "d85e0558-c280-11ea-87c0-0242ac110002-1-ade0"
      }
     ],
     "next": "9ed4403a-c731-11ea-88fb-0242ac110002",
     "previous": "9ed43e82-c731-11ea-88fb-0242ac110002"
    },
    "lc_wrapper": {
     "log_history": [
      "/home/jovyan/notebooks-diagram/.log/20200716/20200716-065720-0900.log"
     ]
    },
    "pinned_outputs": [
     {
      "execution_count": 1,
      "outputs": [
       {
        "name": "stdout",
        "output_type": "stream",
        "text": "実行セルはSVGに反映されない\n"
       }
      ]
     }
    ]
   },
   "outputs": [],
   "source": [
    "print(\"実行セルはSVGに反映されない\")"
   ]
  },
  {
   "cell_type": "code",
   "execution_count": null,
   "metadata": {
    "lc_cell_meme": {
     "current": "9ed4403a-c731-11ea-88fb-0242ac110002",
     "next": null,
     "previous": "d85e0666-c280-11ea-87c0-0242ac110002-1-e6e3"
    }
   },
   "outputs": [],
   "source": []
  }
 ],
 "metadata": {
  "kernelspec": {
   "display_name": "Python 3",
   "language": "python",
   "name": "python3"
  },
  "language_info": {
   "file_extension": ".py",
   "mimetype": "text/x-python",
   "name": "python",
   "nbconvert_exporter": "python",
   "pygments_lexer": "ipython3",
   "version": "3.7.6"
  },
  "lc_notebook_meme": {
   "current": "d85e030a-c280-11ea-87c0-0242ac110002",
   "lc_server_signature": {
    "current": {
     "notebook_dir": "/home/jovyan",
     "notebook_path": "/notebooks-diagram",
     "server_url": "http://localhost:8888/",
     "signature_id": "46d88d42-c730-11ea-88fb-0242ac110002"
    },
    "history": [
     {
      "notebook_dir": "/home/jovyan",
      "notebook_path": "/notebooks-diagram",
      "server_url": "http://localhost:8888/",
      "signature_id": "860cf03e-c280-11ea-87c0-0242ac110002"
     }
    ]
   }
  },
  "toc": {
   "base_numbering": 1,
   "nav_menu": {},
   "number_sections": true,
   "sideBar": true,
   "skip_h1_title": false,
   "title_cell": "Table of Contents",
   "title_sidebar": "Contents",
   "toc_cell": false,
   "toc_position": {},
   "toc_section_display": true,
   "toc_window_display": true
  }
 },
 "nbformat": 4,
 "nbformat_minor": 4
}
