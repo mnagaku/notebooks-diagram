{
 "cells": [
  {
   "cell_type": "markdown",
   "metadata": {
    "lc_cell_meme": {
     "current": "d85e0558-c280-11ea-87c0-0242ac110002-2-1384-52fc",
     "history": [
      {
       "current": "d85e0558-c280-11ea-87c0-0242ac110002-2-1384-52fc",
       "next": "d85e0666-c280-11ea-87c0-0242ac110002",
       "previous": null
      }
     ],
     "next": "d85e0558-c280-11ea-87c0-0242ac110002-1-2f3d",
     "previous": null
    }
   },
   "source": [
    "# ステージ2障害時の調査"
   ]
  },
  {
   "cell_type": "markdown",
   "metadata": {
    "lc_cell_meme": {
     "current": "d85e0558-c280-11ea-87c0-0242ac110002-1-2f3d",
     "history": [
      {
       "current": "d85e0558-c280-11ea-87c0-0242ac110002-1-2f3d",
       "next": "d85e0666-c280-11ea-87c0-0242ac110002",
       "previous": null
      }
     ],
     "next": "d85e0666-c280-11ea-87c0-0242ac110002-1-8035",
     "previous": "d85e0558-c280-11ea-87c0-0242ac110002-2-1384-52fc"
    }
   },
   "source": [
    "## いろいろ調べる"
   ]
  },
  {
   "cell_type": "code",
   "execution_count": null,
   "metadata": {
    "lc_cell_meme": {
     "current": "d85e0666-c280-11ea-87c0-0242ac110002-1-8035",
     "history": [
      {
       "current": "d85e0666-c280-11ea-87c0-0242ac110002-1-8035",
       "next": null,
       "previous": "d85e0558-c280-11ea-87c0-0242ac110002"
      }
     ],
     "next": null,
     "previous": "d85e0558-c280-11ea-87c0-0242ac110002-1-2f3d"
    }
   },
   "outputs": [],
   "source": []
  }
 ],
 "metadata": {
  "kernelspec": {
   "display_name": "Python 3",
   "language": "python",
   "name": "python3"
  },
  "language_info": {
   "file_extension": ".py",
   "mimetype": "text/x-python",
   "name": "python",
   "nbconvert_exporter": "python",
   "pygments_lexer": "ipython3",
   "version": "3.7.6"
  },
  "lc_notebook_meme": {
   "current": "d85e030a-c280-11ea-87c0-0242ac110002",
   "lc_server_signature": {
    "current": {
     "notebook_dir": "/home/jovyan",
     "notebook_path": "/notebooks-diagram",
     "server_url": "http://localhost:8888/",
     "signature_id": "46d88d42-c730-11ea-88fb-0242ac110002"
    },
    "history": [
     {
      "notebook_dir": "/home/jovyan",
      "notebook_path": "/notebooks-diagram",
      "server_url": "http://localhost:8888/",
      "signature_id": "860cf03e-c280-11ea-87c0-0242ac110002"
     }
    ]
   }
  },
  "toc": {
   "base_numbering": 1,
   "nav_menu": {},
   "number_sections": true,
   "sideBar": true,
   "skip_h1_title": false,
   "title_cell": "Table of Contents",
   "title_sidebar": "Contents",
   "toc_cell": false,
   "toc_position": {},
   "toc_section_display": true,
   "toc_window_display": true
  }
 },
 "nbformat": 4,
 "nbformat_minor": 4
}
